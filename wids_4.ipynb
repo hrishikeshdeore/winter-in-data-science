{
  "nbformat": 4,
  "nbformat_minor": 0,
  "metadata": {
    "colab": {
      "provenance": []
    },
    "kernelspec": {
      "name": "python3",
      "display_name": "Python 3"
    },
    "language_info": {
      "name": "python"
    }
  },
  "cells": [
    {
      "cell_type": "code",
      "execution_count": null,
      "metadata": {
        "id": "RmmwtXEiDNHC"
      },
      "outputs": [],
      "source": []
    },
    {
      "cell_type": "code",
      "source": [
        "!pip install pandas_ta\n"
      ],
      "metadata": {
        "colab": {
          "base_uri": "https://localhost:8080/"
        },
        "id": "NZmvhJil40wn",
        "outputId": "547ec0a5-b6ed-410d-add4-62cd952bbf54"
      },
      "execution_count": 1,
      "outputs": [
        {
          "output_type": "stream",
          "name": "stdout",
          "text": [
            "Collecting pandas_ta\n",
            "  Downloading pandas_ta-0.3.14b.tar.gz (115 kB)\n",
            "\u001b[2K     \u001b[90m━━━━━━━━━━━━━━━━━━━━━━━━━━━━━━━━━━━━━━━━\u001b[0m \u001b[32m115.1/115.1 kB\u001b[0m \u001b[31m1.6 MB/s\u001b[0m eta \u001b[36m0:00:00\u001b[0m\n",
            "\u001b[?25h  Preparing metadata (setup.py) ... \u001b[?25l\u001b[?25hdone\n",
            "Requirement already satisfied: pandas in /usr/local/lib/python3.10/dist-packages (from pandas_ta) (2.0.3)\n",
            "Requirement already satisfied: python-dateutil>=2.8.2 in /usr/local/lib/python3.10/dist-packages (from pandas->pandas_ta) (2.8.2)\n",
            "Requirement already satisfied: pytz>=2020.1 in /usr/local/lib/python3.10/dist-packages (from pandas->pandas_ta) (2023.4)\n",
            "Requirement already satisfied: tzdata>=2022.1 in /usr/local/lib/python3.10/dist-packages (from pandas->pandas_ta) (2024.1)\n",
            "Requirement already satisfied: numpy>=1.21.0 in /usr/local/lib/python3.10/dist-packages (from pandas->pandas_ta) (1.25.2)\n",
            "Requirement already satisfied: six>=1.5 in /usr/local/lib/python3.10/dist-packages (from python-dateutil>=2.8.2->pandas->pandas_ta) (1.16.0)\n",
            "Building wheels for collected packages: pandas_ta\n",
            "  Building wheel for pandas_ta (setup.py) ... \u001b[?25l\u001b[?25hdone\n",
            "  Created wheel for pandas_ta: filename=pandas_ta-0.3.14b0-py3-none-any.whl size=218907 sha256=4ae12a739747b6b7f28673ecca969a042e5a1762b1b76522b87187af97440233\n",
            "  Stored in directory: /root/.cache/pip/wheels/69/00/ac/f7fa862c34b0e2ef320175100c233377b4c558944f12474cf0\n",
            "Successfully built pandas_ta\n",
            "Installing collected packages: pandas_ta\n",
            "Successfully installed pandas_ta-0.3.14b0\n"
          ]
        }
      ]
    },
    {
      "cell_type": "code",
      "source": [
        "pip install --upgrade --no-cache-dir git+https://github.com/rongardF/tvdatafeed.git\n"
      ],
      "metadata": {
        "colab": {
          "base_uri": "https://localhost:8080/"
        },
        "id": "eHzVd8iI1tov",
        "outputId": "5e32613a-1ec7-41d1-ffd0-5ee9d5b5def2"
      },
      "execution_count": 2,
      "outputs": [
        {
          "output_type": "stream",
          "name": "stdout",
          "text": [
            "Collecting git+https://github.com/rongardF/tvdatafeed.git\n",
            "  Cloning https://github.com/rongardF/tvdatafeed.git to /tmp/pip-req-build-73ux66a0\n",
            "  Running command git clone --filter=blob:none --quiet https://github.com/rongardF/tvdatafeed.git /tmp/pip-req-build-73ux66a0\n",
            "  Resolved https://github.com/rongardF/tvdatafeed.git to commit e6f6aaa7de439ac6e454d9b26d2760ded8dc4923\n",
            "  Preparing metadata (setup.py) ... \u001b[?25l\u001b[?25hdone\n",
            "Requirement already satisfied: setuptools in /usr/local/lib/python3.10/dist-packages (from tvdatafeed==2.1.0) (67.7.2)\n",
            "Requirement already satisfied: pandas in /usr/local/lib/python3.10/dist-packages (from tvdatafeed==2.1.0) (2.0.3)\n",
            "Requirement already satisfied: websocket-client in /usr/local/lib/python3.10/dist-packages (from tvdatafeed==2.1.0) (1.8.0)\n",
            "Requirement already satisfied: requests in /usr/local/lib/python3.10/dist-packages (from tvdatafeed==2.1.0) (2.31.0)\n",
            "Requirement already satisfied: python-dateutil>=2.8.2 in /usr/local/lib/python3.10/dist-packages (from pandas->tvdatafeed==2.1.0) (2.8.2)\n",
            "Requirement already satisfied: pytz>=2020.1 in /usr/local/lib/python3.10/dist-packages (from pandas->tvdatafeed==2.1.0) (2023.4)\n",
            "Requirement already satisfied: tzdata>=2022.1 in /usr/local/lib/python3.10/dist-packages (from pandas->tvdatafeed==2.1.0) (2024.1)\n",
            "Requirement already satisfied: numpy>=1.21.0 in /usr/local/lib/python3.10/dist-packages (from pandas->tvdatafeed==2.1.0) (1.25.2)\n",
            "Requirement already satisfied: charset-normalizer<4,>=2 in /usr/local/lib/python3.10/dist-packages (from requests->tvdatafeed==2.1.0) (3.3.2)\n",
            "Requirement already satisfied: idna<4,>=2.5 in /usr/local/lib/python3.10/dist-packages (from requests->tvdatafeed==2.1.0) (3.7)\n",
            "Requirement already satisfied: urllib3<3,>=1.21.1 in /usr/local/lib/python3.10/dist-packages (from requests->tvdatafeed==2.1.0) (2.0.7)\n",
            "Requirement already satisfied: certifi>=2017.4.17 in /usr/local/lib/python3.10/dist-packages (from requests->tvdatafeed==2.1.0) (2024.7.4)\n",
            "Requirement already satisfied: six>=1.5 in /usr/local/lib/python3.10/dist-packages (from python-dateutil>=2.8.2->pandas->tvdatafeed==2.1.0) (1.16.0)\n",
            "Building wheels for collected packages: tvdatafeed\n",
            "  Building wheel for tvdatafeed (setup.py) ... \u001b[?25l\u001b[?25hdone\n",
            "  Created wheel for tvdatafeed: filename=tvdatafeed-2.1.0-py3-none-any.whl size=17533 sha256=343eb63bd206604dc5176a4c43549ef347ef3b3d320f969a6caa98f9c8c2f30e\n",
            "  Stored in directory: /tmp/pip-ephem-wheel-cache-75yxctuu/wheels/4b/f9/e9/82474a5d9a64702ba7dd5481dee05d267c69bcfa480d382b7c\n",
            "Successfully built tvdatafeed\n",
            "Installing collected packages: tvdatafeed\n",
            "Successfully installed tvdatafeed-2.1.0\n"
          ]
        }
      ]
    },
    {
      "cell_type": "code",
      "execution_count": 3,
      "metadata": {
        "id": "b29811c3",
        "outputId": "af4e7286-dacc-4fe0-b93f-a79336ba8c75",
        "colab": {
          "base_uri": "https://localhost:8080/"
        }
      },
      "outputs": [
        {
          "output_type": "stream",
          "name": "stderr",
          "text": [
            "WARNING:tvDatafeed.main:you are using nologin method, data you access may be limited\n"
          ]
        }
      ],
      "source": [
        "import numpy as np\n",
        "import matplotlib.pyplot as plt\n",
        "import pandas as pd\n",
        "from tvDatafeed import TvDatafeed, Interval\n",
        "\n",
        "#import yfinance as yf\n",
        "import pandas_ta as ta\n",
        "tv = TvDatafeed()\n"
      ]
    },
    {
      "cell_type": "code",
      "source": [],
      "metadata": {
        "id": "hImlmriGE8uD"
      },
      "execution_count": 3,
      "outputs": []
    },
    {
      "cell_type": "code",
      "execution_count": 4,
      "metadata": {
        "id": "68e700e1",
        "colab": {
          "base_uri": "https://localhost:8080/"
        },
        "outputId": "4a48140b-9daa-4245-f200-6dfc4b8e84b7"
      },
      "outputs": [
        {
          "output_type": "execute_result",
          "data": {
            "text/plain": [
              "4956"
            ]
          },
          "metadata": {},
          "execution_count": 4
        }
      ],
      "source": [
        "# Adding indicators\n",
        "\n",
        "hal_df=tv.get_hist(symbol='GESHIP',exchange='NSE',interval=Interval.in_15_minute,n_bars=5000)\n",
        "data=pd.DataFrame(hal_df)\n",
        "\n",
        "data['RSI']=ta.rsi(data.close, length=3)\n",
        "data['EMAF']=ta.ema(data.close, length=8)\n",
        "data['EMAm']=ta.ema(data.close, length=13)\n",
        "\n",
        "data['EMAs']=ta.ema(data.close, length=21)\n",
        "data['EMASs']=ta.ema(data.close, length=44)\n",
        "\n",
        "data['Adj Close'] = data['close'].shift(+1)\n",
        "data['Target'] = data['Adj Close']-data.open\n",
        "data['Target'] = data['Target'].shift(-1)\n",
        "\n",
        "data['TargetClass'] = [1 if data.Target[i]>0 else 0 for i in range(len(data))]\n",
        "\n",
        "data['TargetNextClose'] = data['close'].shift(-1)\n",
        "\n",
        "data.dropna(inplace=True)\n",
        "data.reset_index(inplace = True)\n",
        "data.drop(['volume', 'datetime','symbol','high','low'], axis=1, inplace=True)\n",
        "data.head(5)\n",
        "len(data)\n"
      ]
    },
    {
      "cell_type": "code",
      "execution_count": 5,
      "metadata": {
        "id": "a2b0e972"
      },
      "outputs": [],
      "source": [
        "data_set = data.iloc[:, 0:11]#.values\n",
        "pd.set_option('display.max_columns', None)\n"
      ]
    },
    {
      "cell_type": "code",
      "execution_count": 6,
      "metadata": {
        "id": "b9d38e4c"
      },
      "outputs": [],
      "source": [
        "from sklearn.preprocessing import MinMaxScaler\n",
        "sc = MinMaxScaler(feature_range=(0,1))\n",
        "data_set_scaled = sc.fit_transform(data_set)\n"
      ]
    },
    {
      "cell_type": "code",
      "execution_count": 7,
      "metadata": {
        "id": "99ca74fd",
        "outputId": "de9faf0b-a100-4277-a3bf-580244db1128",
        "colab": {
          "base_uri": "https://localhost:8080/"
        }
      },
      "outputs": [
        {
          "output_type": "stream",
          "name": "stdout",
          "text": [
            "4956\n",
            "(4926, 30, 8)\n",
            "(4926, 1)\n"
          ]
        },
        {
          "output_type": "execute_result",
          "data": {
            "text/plain": [
              "4926"
            ]
          },
          "metadata": {},
          "execution_count": 7
        }
      ],
      "source": [
        "X = []\n",
        "backcandles = 30\n",
        "print(data_set_scaled.shape[0])\n",
        "for j in range(8):#data_set_scaled[0].size):#2 columns are target not X\n",
        "    X.append([])\n",
        "    for i in range(backcandles, data_set_scaled.shape[0]):#backcandles+2\n",
        "        X[j].append(data_set_scaled[i-backcandles:i, j])\n",
        "\n",
        "X=np.moveaxis(X, [0], [2])\n",
        "X, yi =np.array(X), np.array(data_set_scaled[backcandles:,-1])\n",
        "y=np.reshape(yi,(len(yi),1))\n",
        "\n",
        "print(X.shape)\n",
        "print(y.shape)\n",
        "len(X)"
      ]
    },
    {
      "cell_type": "code",
      "execution_count": 8,
      "metadata": {
        "id": "a2a87918",
        "outputId": "6d524448-6360-44fe-8750-51741c151cb1",
        "colab": {
          "base_uri": "https://localhost:8080/"
        }
      },
      "outputs": [
        {
          "output_type": "stream",
          "name": "stdout",
          "text": [
            "4920\n",
            "0.9027898866608542\n",
            "(4920, 30, 8)\n",
            "(1, 30, 8)\n",
            "(4920, 1)\n",
            "(1, 1)\n",
            "[[0.83727312]]\n"
          ]
        }
      ],
      "source": [
        "# split data into train test sets\n",
        "splitlimit = 4920\n",
        "print(splitlimit)\n",
        "X_train, X_test = X[:splitlimit], X[splitlimit:splitlimit+1]\n",
        "y_train, y_test = y[:splitlimit], y[splitlimit:splitlimit+1]\n",
        "#y_predict,xpredict=y[splitlimit+1:splitlimit+2],X[splitlimit+1:splitlimit+2]\n",
        "buy_price=X_test[0,9,0]\n",
        "print(buy_price)\n",
        "print(X_train.shape)\n",
        "print(X_test.shape)\n",
        "print(y_train.shape)\n",
        "print(y_test.shape)\n",
        "#print(X_test)\n",
        "print(y_test)\n",
        "#y_predict"
      ]
    },
    {
      "cell_type": "code",
      "source": [
        "from keras.models import Sequential\n",
        "from keras.layers import LSTM\n",
        "from keras.layers import Dropout\n",
        "from keras.layers import Dense\n",
        "from keras.layers import TimeDistributed\n",
        "\n",
        "import tensorflow as tf\n",
        "import keras\n",
        "from keras import optimizers\n",
        "from keras.callbacks import History\n",
        "from keras.models import Model\n",
        "from keras.layers import Dense, Dropout, LSTM, Input, Activation, concatenate\n",
        "import numpy as np\n",
        "#tf.random.set_seed(20)\n",
        "np.random.seed(10)\n",
        "\n",
        "lstm_input = Input(shape=(backcandles, 8), name='lstm_input')\n",
        "inputs = LSTM(150, name='first_layer')(lstm_input)\n",
        "inputs = Dense(1, name='dense_layer')(inputs)\n",
        "output = Activation('linear', name='output')(inputs)\n",
        "model = Model(inputs=lstm_input, outputs=output)\n",
        "adam = optimizers.Adam()\n",
        "model.compile(optimizer=adam, loss='mse')\n",
        "model.fit(x=X_train, y=y_train, batch_size=15, epochs=5, shuffle=True, validation_split = 0.1)"
      ],
      "metadata": {
        "colab": {
          "base_uri": "https://localhost:8080/"
        },
        "id": "SSQMAqpneT2r",
        "outputId": "9536ac07-2288-418a-aa53-e8f6b2c1165d"
      },
      "execution_count": 9,
      "outputs": [
        {
          "output_type": "stream",
          "name": "stdout",
          "text": [
            "Epoch 1/5\n",
            "296/296 [==============================] - 26s 63ms/step - loss: 0.0013 - val_loss: 6.5347e-04\n",
            "Epoch 2/5\n",
            "296/296 [==============================] - 11s 39ms/step - loss: 1.4210e-04 - val_loss: 5.9757e-04\n",
            "Epoch 3/5\n",
            "296/296 [==============================] - 10s 35ms/step - loss: 1.3330e-04 - val_loss: 7.3502e-04\n",
            "Epoch 4/5\n",
            "296/296 [==============================] - 10s 34ms/step - loss: 1.4154e-04 - val_loss: 6.7233e-04\n",
            "Epoch 5/5\n",
            "296/296 [==============================] - 12s 40ms/step - loss: 1.3690e-04 - val_loss: 6.0248e-04\n"
          ]
        },
        {
          "output_type": "execute_result",
          "data": {
            "text/plain": [
              "<keras.src.callbacks.History at 0x799bf8081ea0>"
            ]
          },
          "metadata": {},
          "execution_count": 9
        }
      ]
    },
    {
      "cell_type": "code",
      "execution_count": 10,
      "metadata": {
        "id": "08324ede",
        "colab": {
          "base_uri": "https://localhost:8080/"
        },
        "outputId": "fcfd3157-d4d6-4fd7-df96-3b199f512737"
      },
      "outputs": [
        {
          "output_type": "stream",
          "name": "stdout",
          "text": [
            "1/1 [==============================] - 0s 462ms/step\n",
            "y_test[i] 0.8372731241813758\n",
            "y_pred[i] [0.83231586]\n",
            "[[0. 0. 0. 0. 0. 0. 0. 0. 0. 0. 0.]]\n",
            "[[0.83231586 0.         0.         0.         0.         0.\n",
            "  0.         0.         0.         0.         0.        ]]\n",
            "y_pred: [[ 1.39726641e+03  7.29000000e+02  7.98875755e-02  7.30204297e+02\n",
            "   7.31945124e+02  7.35280877e+02  7.43942140e+02  7.29000000e+02\n",
            "  -6.00000000e+01  0.00000000e+00  7.29000000e+02]]\n",
            "y_test: [[ 1.40124659e+03  7.29000000e+02  7.98875755e-02  7.30204297e+02\n",
            "   7.31945124e+02  7.35280877e+02  7.43942140e+02  7.29000000e+02\n",
            "  -6.00000000e+01  0.00000000e+00  7.29000000e+02]]\n",
            "y_test: 1401.2465914052268\n",
            "y_pred: 1397.2664057433606\n",
            "buy_price: 1453.85\n",
            "profit/loss: 52.6034085947731\n",
            "profit/loss %: 0.03891982959496464\n"
          ]
        },
        {
          "output_type": "stream",
          "name": "stderr",
          "text": [
            "<ipython-input-10-34aba8988573>:15: DeprecationWarning: Conversion of an array with ndim > 0 to a scalar is deprecated, and will error in future. Ensure you extract a single element from your array before performing this operation. (Deprecated NumPy 1.25.)\n",
            "  reshaped_array[0,0]=y_pred[0]\n"
          ]
        }
      ],
      "source": [
        "y_pred = model.predict(X_test)\n",
        "#y_pred=np.where(y_pred > 0.43, 1,0)\n",
        "for i in range(1):\n",
        "    print('y_test[i]',y_test[0,0])\n",
        "    print('y_pred[i]',y_pred[0])\n",
        "\n",
        "'''y_pred[0].reshape(1,-1)\n",
        "y_test[0].reshape(1,-1)'''\n",
        "reshaped_array = np.zeros(( 1,11))\n",
        "reshaped_array1 = np.zeros(( 1,11))\n",
        "reshaped_array2 = np.zeros(( 1,11))\n",
        "\n",
        "\n",
        "print(reshaped_array)\n",
        "reshaped_array[0,0]=y_pred[0]\n",
        "print(reshaped_array)\n",
        "#\n",
        "reshaped_array1[0,0]=y_test[0,0]\n",
        "reshaped_array2[0,0]=buy_price\n",
        "\n",
        "y_pred = sc.inverse_transform(reshaped_array)\n",
        "print('y_pred:',y_pred)\n",
        "y_test=sc.inverse_transform(reshaped_array1)\n",
        "print('y_test:',y_test)\n",
        "buy=sc.inverse_transform(reshaped_array2)\n",
        "print('y_test:',y_test[0,0])\n",
        "print('y_pred:',y_pred[0,0])\n",
        "print('buy_price:',buy[0,0])\n",
        "if y_pred[0,0]>buy[0,0]:\n",
        "\n",
        "   print('profit/loss:',y_test[0,0]-buy[0,0])\n",
        "   print('profit/loss %:',((y_test[0,0]-y_pred[0,0])/buy[0,0]))\n",
        "else:\n",
        "   print('profit/loss:',(buy[0,0]-y_test[0,0]))\n",
        "   print('profit/loss %:',((buy[0,0]-y_pred[0,0])/buy[0,0]))\n",
        "\n",
        "\n"
      ]
    },
    {
      "cell_type": "code",
      "source": [
        "if y_pred[0,0]>buy[0,0]:\n",
        "\n",
        "   print('profit/loss %:',((y_test[0,0]-y_pred[0,0])/buy[0,0])*100)\n",
        "else:\n",
        "   print('profit/loss %:',((buy[0,0]-y_pred[0,0])/buy[0,0])*100)\n"
      ],
      "metadata": {
        "colab": {
          "base_uri": "https://localhost:8080/"
        },
        "id": "Yf-OYhaxMJEN",
        "outputId": "8cd89206-9347-4a27-b21a-f042cfa9ed2d"
      },
      "execution_count": 11,
      "outputs": [
        {
          "output_type": "stream",
          "name": "stdout",
          "text": [
            "profit/loss %: 3.891982959496464\n"
          ]
        }
      ]
    }
  ]
}